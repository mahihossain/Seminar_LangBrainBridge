{
 "cells": [
  {
   "cell_type": "code",
   "execution_count": null,
   "metadata": {},
   "outputs": [],
   "source": [
    "import os\n",
    "import aeneas\n",
    "from aeneas.executetask import ExecuteTask\n",
    "from aeneas.task import Task\n",
    "\n",
    "# directories\n",
    "audio_dir = \"data/audio\"\n",
    "text_dir = \"data/text\"\n",
    "output_dir = \"data/alignments\"\n",
    "\n",
    "# iterate over audio files\n",
    "for audio_file in os.listdir(audio_dir):\n",
    "    if audio_file.endswith(\".wav\"):\n",
    "        # corresponding text file\n",
    "        text_file = audio_file.replace(\".wav\", \".txt\")\n",
    "        text_path = os.path.join(text_dir, text_file)\n",
    "\n",
    "        # check if text file exists\n",
    "        if os.path.exists(text_path):\n",
    "            # create Task object\n",
    "            config_string = u\"task_language=eng|is_text_type=plain|os_task_file_format=csv\"\n",
    "            task = Task(config_string=config_string)\n",
    "            task.audio_file_path_absolute = os.path.join(audio_dir, audio_file)\n",
    "            task.text_file_path_absolute = text_path\n",
    "            task.sync_map_file_path_absolute = os.path.join(output_dir, audio_file.replace(\".wav\", \".csv\"))\n",
    "\n",
    "            # process Task\n",
    "            ExecuteTask(task).execute()\n",
    "\n",
    "            # output sync map to file\n",
    "            task.output_sync_map_file()"
   ]
  }
 ],
 "metadata": {
  "language_info": {
   "name": "python"
  }
 },
 "nbformat": 4,
 "nbformat_minor": 2
}
