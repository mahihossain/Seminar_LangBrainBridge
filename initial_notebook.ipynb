{
 "cells": [
  {
   "cell_type": "code",
   "execution_count": 52,
   "metadata": {},
   "outputs": [
    {
     "name": "stdout",
     "output_type": "stream",
     "text": [
      "Keys: <KeysViewHDF5 ['story_01', 'story_02', 'story_03', 'story_04', 'story_05', 'story_06', 'story_07', 'story_08', 'story_09', 'story_10']>\n",
      "[[ 3.          3.          3.         ...  3.4077135   3.21212121\n",
      "   3.14325069]\n",
      " [ 3.          3.          3.         ...  3.4077135   3.21212121\n",
      "   3.14325069]\n",
      " [ 3.          3.          3.         ...  3.4077135   3.21212121\n",
      "   3.14325069]\n",
      " ...\n",
      " [ 3.          3.          3.         ... -1.82202637  4.37691416\n",
      "   2.22560058]\n",
      " [ 3.          3.          3.         ... -1.82954722  0.37234067\n",
      "   4.22224669]\n",
      " [ 3.          3.          3.         ... -1.83205417  0.3704774\n",
      "   1.22072219]]\n"
     ]
    }
   ],
   "source": [
    "import h5py\n",
    "\n",
    "filename = 'data/subject01_reading_fmri_data_trn.hdf'\n",
    "\n",
    "# Create a dictionary to store all the data\n",
    "data = {}\n",
    "\n",
    "with h5py.File(filename, 'r') as f:\n",
    "    # List all groups\n",
    "    print(\"Keys: %s\" % f.keys())\n",
    "\n",
    "    # Store the data for each group in the dictionary\n",
    "    for key in f.keys():\n",
    "        data[key] = f[key][:]\n",
    "\n",
    "# Now you can access the data for 'story_01' like this:\n",
    "print(data['story_01'])"
   ]
  },
  {
   "cell_type": "code",
   "execution_count": 53,
   "metadata": {},
   "outputs": [
    {
     "data": {
      "text/plain": [
       "(81133,)"
      ]
     },
     "execution_count": 53,
     "metadata": {},
     "output_type": "execute_result"
    }
   ],
   "source": [
    "data['story_01'][1].shape"
   ]
  },
  {
   "cell_type": "code",
   "execution_count": 54,
   "metadata": {},
   "outputs": [
    {
     "data": {
      "text/plain": [
       "(363, 81133)"
      ]
     },
     "execution_count": 54,
     "metadata": {},
     "output_type": "execute_result"
    }
   ],
   "source": [
    "data['story_01'].shape"
   ]
  },
  {
   "cell_type": "code",
   "execution_count": 55,
   "metadata": {},
   "outputs": [],
   "source": [
    "Rstories = ['alternateithicatom', 'avatar', 'howtodraw', 'legacy',\n",
    "                'life', 'myfirstdaywiththeyankees', 'naked',\n",
    "                'odetostepfather', 'souls', 'undertheinfluence']\n",
    "\n",
    "# Pstories are the test (or Prediction) stories (well, story), which we will use to test our models\n",
    "Pstories = ['wheretheressmoke']\n",
    "\n",
    "all_stories = Rstories + Pstories"
   ]
  },
  {
   "cell_type": "code",
   "execution_count": 56,
   "metadata": {},
   "outputs": [
    {
     "name": "stdout",
     "output_type": "stream",
     "text": [
      "story_01\n",
      "story_02\n",
      "story_03\n",
      "story_04\n",
      "story_05\n",
      "story_06\n",
      "story_07\n",
      "story_08\n",
      "story_09\n",
      "story_10\n",
      "story_11\n",
      "(363, 81133)\n"
     ]
    }
   ],
   "source": [
    "# in the Rstories we have the stories in serial order, make a new dict key as the story name and the shape as the value \n",
    "# for each story, we have to map the stories with the names with key of the data they are in format like \n",
    "# story_01 to story_10...story_10 is the last story in the data the name is in Pstories\n",
    "\n",
    "# Create a dictionary to store the shapes of the data\n",
    "data_shapes = {}\n",
    "\n",
    "# Iterate over the all_stories list\n",
    "for i, story in enumerate(all_stories):\n",
    "    # The keys in the data dictionary are in the format 'story_01', 'story_02', etc.\n",
    "    # So, we need to find the corresponding key for each story name\n",
    "    # The index in the all_stories list is one less than the story number, so we add 1 to it\n",
    "    key = f'story_{i+1:02d}'\n",
    "    print(key)\n",
    "    # Check if the key exists in the data dictionary\n",
    "    if key in data:\n",
    "        # Store the shape of the data array in the new dictionary\n",
    "        data_shapes[story] = data[key].shape\n",
    "    else:\n",
    "        # Handle the case when the key does not exist\n",
    "        data_shapes[story] = None\n",
    "\n",
    "# Now you can access the shape of the data for 'alternateithicatom' like this:\n",
    "print(data_shapes['alternateithicatom'])"
   ]
  },
  {
   "cell_type": "code",
   "execution_count": 57,
   "metadata": {},
   "outputs": [
    {
     "data": {
      "text/plain": [
       "{'alternateithicatom': (363, 81133),\n",
       " 'avatar': (387, 81133),\n",
       " 'howtodraw': (374, 81133),\n",
       " 'legacy': (420, 81133),\n",
       " 'life': (450, 81133),\n",
       " 'myfirstdaywiththeyankees': (378, 81133),\n",
       " 'naked': (442, 81133),\n",
       " 'odetostepfather': (424, 81133),\n",
       " 'souls': (375, 81133),\n",
       " 'undertheinfluence': (324, 81133),\n",
       " 'wheretheressmoke': None}"
      ]
     },
     "execution_count": 57,
     "metadata": {},
     "output_type": "execute_result"
    }
   ],
   "source": [
    "data_shapes"
   ]
  },
  {
   "cell_type": "code",
   "execution_count": 58,
   "metadata": {},
   "outputs": [
    {
     "name": "stdout",
     "output_type": "stream",
     "text": [
      "Keys: <KeysViewHDF5 ['story_11']>\n",
      "[[[  3.           3.           3.         ...   3.           3.\n",
      "     3.05144695]\n",
      "  [  3.           3.           3.         ...   3.           3.\n",
      "     3.04541672]\n",
      "  [  3.           3.           3.         ...   3.           3.\n",
      "     3.03938649]\n",
      "  ...\n",
      "  [  3.           3.           3.         ...   3.           3.\n",
      "     3.05144695]\n",
      "  [  3.           3.           3.         ...   3.           3.\n",
      "     3.05144695]\n",
      "  [  3.           3.           3.         ...   3.           3.\n",
      "     3.05144695]]\n",
      "\n",
      " [[184.65273312  90.37257706  70.40817706 ...   3.           3.\n",
      "     3.        ]\n",
      "  [188.95591644  92.81355281  62.08044088 ...   3.           3.\n",
      "     3.        ]\n",
      "  [186.26753699  92.29741602  72.88410103 ...   3.           3.\n",
      "     3.        ]\n",
      "  ...\n",
      "  [181.12647876  92.56499727  66.95987865 ...   3.           3.\n",
      "     3.        ]\n",
      "  [178.77159977  84.29760573  66.05613872 ...   3.           3.\n",
      "     3.        ]\n",
      "  [184.4587088   88.92638246  61.06788751 ...   3.           3.\n",
      "     3.        ]]]\n"
     ]
    }
   ],
   "source": [
    "# put the shape of data\n",
    "\n",
    "import h5py\n",
    "\n",
    "filename = 'data/subject01_reading_fmri_data_val.hdf'\n",
    "\n",
    "# Create a dictionary to store all the data\n",
    "data = {}\n",
    "\n",
    "with h5py.File(filename, 'r') as f:\n",
    "    # List all groups\n",
    "    print(\"Keys: %s\" % f.keys())\n",
    "\n",
    "    # Store the data for each group in the dictionary\n",
    "    for key in f.keys():\n",
    "        data[key] = f[key][:]\n",
    "\n",
    "# Now you can access the data for 'story_01' like this:\n",
    "print(data['story_11'])"
   ]
  },
  {
   "cell_type": "code",
   "execution_count": 59,
   "metadata": {},
   "outputs": [],
   "source": [
    "# add the shape of the data at the data_shapes dictionary for the wheretheressmoke story\n",
    "data_shapes['wheretheressmoke'] = data['story_11'][0].shape"
   ]
  },
  {
   "cell_type": "code",
   "execution_count": 60,
   "metadata": {},
   "outputs": [
    {
     "data": {
      "text/plain": [
       "{'alternateithicatom': (363, 81133),\n",
       " 'avatar': (387, 81133),\n",
       " 'howtodraw': (374, 81133),\n",
       " 'legacy': (420, 81133),\n",
       " 'life': (450, 81133),\n",
       " 'myfirstdaywiththeyankees': (378, 81133),\n",
       " 'naked': (442, 81133),\n",
       " 'odetostepfather': (424, 81133),\n",
       " 'souls': (375, 81133),\n",
       " 'undertheinfluence': (324, 81133),\n",
       " 'wheretheressmoke': (311, 81133)}"
      ]
     },
     "execution_count": 60,
     "metadata": {},
     "output_type": "execute_result"
    }
   ],
   "source": [
    "data_shapes"
   ]
  },
  {
   "cell_type": "code",
   "execution_count": 61,
   "metadata": {},
   "outputs": [
    {
     "name": "stdout",
     "output_type": "stream",
     "text": [
      "Keys: <KeysViewHDF5 ['story_01', 'story_02', 'story_03', 'story_04', 'story_05', 'story_06', 'story_07', 'story_08', 'story_09', 'story_10']>\n",
      "[[173.31498235  98.51739648 107.2507271  ...   5.           5.\n",
      "    5.        ]\n",
      " [167.39373274 105.48417771 110.94031936 ...   5.           5.\n",
      "    5.        ]\n",
      " [172.35614714  95.36295825 115.47794816 ...   5.           5.\n",
      "    5.        ]\n",
      " ...\n",
      " [161.05512352  75.72984179  73.60741684 ...   5.           5.\n",
      "    5.        ]\n",
      " [159.64700744  90.52155835  99.22319978 ...   5.           5.\n",
      "    5.        ]\n",
      " [161.50733311  97.20519831 106.87414268 ...   5.           5.\n",
      "    5.        ]]\n"
     ]
    }
   ],
   "source": [
    "import h5py\n",
    "\n",
    "filename = 'data/subject01_listening_fmri_data_trn.hdf'\n",
    "\n",
    "# Create a dictionary to store all the data\n",
    "data = {}\n",
    "\n",
    "with h5py.File(filename, 'r') as f:\n",
    "    # List all groups\n",
    "    print(\"Keys: %s\" % f.keys())\n",
    "\n",
    "    # Store the data for each group in the dictionary\n",
    "    for key in f.keys():\n",
    "        data[key] = f[key][:]\n",
    "\n",
    "# Now you can access the data for 'story_01' like this:\n",
    "print(data['story_01'])"
   ]
  },
  {
   "cell_type": "code",
   "execution_count": 62,
   "metadata": {},
   "outputs": [
    {
     "name": "stdout",
     "output_type": "stream",
     "text": [
      "story_01\n",
      "story_02\n",
      "story_03\n",
      "story_04\n",
      "story_05\n",
      "story_06\n",
      "story_07\n",
      "story_08\n",
      "story_09\n",
      "story_10\n",
      "story_11\n",
      "(363, 81133)\n"
     ]
    }
   ],
   "source": [
    "# in the Rstories we have the stories in serial order, make a new dict key as the story name and the shape as the value \n",
    "# for each story, we have to map the stories with the names with key of the data they are in format like \n",
    "# story_01 to story_10...story_10 is the last story in the data the name is in Pstories\n",
    "\n",
    "# Create a dictionary to store the shapes of the data\n",
    "data_shapes = {}\n",
    "\n",
    "# Iterate over the all_stories list\n",
    "for i, story in enumerate(all_stories):\n",
    "    # The keys in the data dictionary are in the format 'story_01', 'story_02', etc.\n",
    "    # So, we need to find the corresponding key for each story name\n",
    "    # The index in the all_stories list is one less than the story number, so we add 1 to it\n",
    "    key = f'story_{i+1:02d}'\n",
    "    print(key)\n",
    "    # Check if the key exists in the data dictionary\n",
    "    if key in data:\n",
    "        # Store the shape of the data array in the new dictionary\n",
    "        data_shapes[story] = data[key].shape\n",
    "    else:\n",
    "        # Handle the case when the key does not exist\n",
    "        data_shapes[story] = None\n",
    "\n",
    "# Now you can access the shape of the data for 'alternateithicatom' like this:\n",
    "print(data_shapes['alternateithicatom'])"
   ]
  },
  {
   "cell_type": "code",
   "execution_count": 63,
   "metadata": {},
   "outputs": [
    {
     "name": "stdout",
     "output_type": "stream",
     "text": [
      "Keys: <KeysViewHDF5 ['story_11']>\n",
      "[[[  18.71061093   12.64951768   19.26045016 ...    5.\n",
      "      5.            5.        ]\n",
      "  [  18.71061093   12.64951768   19.26045016 ...    5.\n",
      "      5.            5.        ]\n",
      "  [  18.71061093   12.64951768   19.26045016 ...    5.\n",
      "      5.            5.        ]\n",
      "  ...\n",
      "  [  17.01329455    4.95154577    7.96887842 ...    5.\n",
      "      5.            5.        ]\n",
      "  [-189.67017771    8.8340698     7.85859299 ...    5.\n",
      "      5.            5.        ]\n",
      "  [  17.64089573   11.71561137   18.74644428 ...    5.\n",
      "      5.            5.        ]]\n",
      "\n",
      " [[ 135.03051774   83.36248058  100.77170418 ...    5.\n",
      "      5.            5.        ]\n",
      "  [ 131.01894851   80.3864355   108.15160014 ...    5.\n",
      "      5.            5.        ]\n",
      "  [ 128.17612067   64.44439176  107.45886911 ...    5.\n",
      "      5.            5.        ]\n",
      "  ...\n",
      "  [ 126.57835897   73.69164978   92.29528051 ...    5.\n",
      "      5.            5.        ]\n",
      "  [ 116.49832292   58.55689619  102.94711609 ...    5.\n",
      "      5.            5.        ]\n",
      "  [ 123.39832106   68.3163036    99.77496152 ...    5.\n",
      "      5.            5.        ]]]\n"
     ]
    }
   ],
   "source": [
    "# put the shape of data\n",
    "\n",
    "import h5py\n",
    "\n",
    "filename = 'data/subject01_listening_fmri_data_val.hdf'\n",
    "\n",
    "# Create a dictionary to store all the data\n",
    "data = {}\n",
    "\n",
    "with h5py.File(filename, 'r') as f:\n",
    "    # List all groups\n",
    "    print(\"Keys: %s\" % f.keys())\n",
    "\n",
    "    # Store the data for each group in the dictionary\n",
    "    for key in f.keys():\n",
    "        data[key] = f[key][:]\n",
    "\n",
    "# Now you can access the data for 'story_01' like this:\n",
    "print(data['story_11'])"
   ]
  },
  {
   "cell_type": "code",
   "execution_count": 64,
   "metadata": {},
   "outputs": [],
   "source": [
    "# add the shape of the data at the data_shapes dictionary for the wheretheressmoke story\n",
    "data_shapes['wheretheressmoke'] = data['story_11'][0].shape"
   ]
  },
  {
   "cell_type": "code",
   "execution_count": 65,
   "metadata": {},
   "outputs": [
    {
     "data": {
      "text/plain": [
       "{'alternateithicatom': (363, 81133),\n",
       " 'avatar': (387, 81133),\n",
       " 'howtodraw': (374, 81133),\n",
       " 'legacy': (420, 81133),\n",
       " 'life': (450, 81133),\n",
       " 'myfirstdaywiththeyankees': (378, 81133),\n",
       " 'naked': (442, 81133),\n",
       " 'odetostepfather': (424, 81133),\n",
       " 'souls': (375, 81133),\n",
       " 'undertheinfluence': (324, 81133),\n",
       " 'wheretheressmoke': (311, 81133)}"
      ]
     },
     "execution_count": 65,
     "metadata": {},
     "output_type": "execute_result"
    }
   ],
   "source": [
    "data_shapes"
   ]
  }
 ],
 "metadata": {
  "kernelspec": {
   "display_name": "Python 3",
   "language": "python",
   "name": "python3"
  },
  "language_info": {
   "codemirror_mode": {
    "name": "ipython",
    "version": 3
   },
   "file_extension": ".py",
   "mimetype": "text/x-python",
   "name": "python",
   "nbconvert_exporter": "python",
   "pygments_lexer": "ipython3",
   "version": "3.10.12"
  }
 },
 "nbformat": 4,
 "nbformat_minor": 2
}
